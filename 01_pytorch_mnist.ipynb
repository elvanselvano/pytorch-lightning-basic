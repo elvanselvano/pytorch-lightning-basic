{
  "nbformat": 4,
  "nbformat_minor": 0,
  "metadata": {
    "colab": {
      "name": "01_pytorch_mnist.ipynb",
      "provenance": []
    },
    "kernelspec": {
      "name": "python3",
      "display_name": "Python 3"
    },
    "language_info": {
      "name": "python"
    },
    "accelerator": "GPU",
    "widgets": {
      "application/vnd.jupyter.widget-state+json": {
        "535ea6664d4f4ac7b25a3231b7a3ad4a": {
          "model_module": "@jupyter-widgets/controls",
          "model_name": "HBoxModel",
          "model_module_version": "1.5.0",
          "state": {
            "_view_name": "HBoxView",
            "_dom_classes": [],
            "_model_name": "HBoxModel",
            "_view_module": "@jupyter-widgets/controls",
            "_model_module_version": "1.5.0",
            "_view_count": null,
            "_view_module_version": "1.5.0",
            "box_style": "",
            "layout": "IPY_MODEL_dd4932d2b780442eb55012ab1016187b",
            "_model_module": "@jupyter-widgets/controls",
            "children": [
              "IPY_MODEL_1c61ea08436a4027b52b59e6780da4b6",
              "IPY_MODEL_eaffca2691c44313b77eae5a505342a0",
              "IPY_MODEL_5ba86c170fe1413fbbe01c1cb8b0fbce"
            ]
          }
        },
        "dd4932d2b780442eb55012ab1016187b": {
          "model_module": "@jupyter-widgets/base",
          "model_name": "LayoutModel",
          "model_module_version": "1.2.0",
          "state": {
            "_view_name": "LayoutView",
            "grid_template_rows": null,
            "right": null,
            "justify_content": null,
            "_view_module": "@jupyter-widgets/base",
            "overflow": null,
            "_model_module_version": "1.2.0",
            "_view_count": null,
            "flex_flow": null,
            "width": null,
            "min_width": null,
            "border": null,
            "align_items": null,
            "bottom": null,
            "_model_module": "@jupyter-widgets/base",
            "top": null,
            "grid_column": null,
            "overflow_y": null,
            "overflow_x": null,
            "grid_auto_flow": null,
            "grid_area": null,
            "grid_template_columns": null,
            "flex": null,
            "_model_name": "LayoutModel",
            "justify_items": null,
            "grid_row": null,
            "max_height": null,
            "align_content": null,
            "visibility": null,
            "align_self": null,
            "height": null,
            "min_height": null,
            "padding": null,
            "grid_auto_rows": null,
            "grid_gap": null,
            "max_width": null,
            "order": null,
            "_view_module_version": "1.2.0",
            "grid_template_areas": null,
            "object_position": null,
            "object_fit": null,
            "grid_auto_columns": null,
            "margin": null,
            "display": null,
            "left": null
          }
        },
        "1c61ea08436a4027b52b59e6780da4b6": {
          "model_module": "@jupyter-widgets/controls",
          "model_name": "HTMLModel",
          "model_module_version": "1.5.0",
          "state": {
            "_view_name": "HTMLView",
            "style": "IPY_MODEL_23e0009dc8954502bf1f6a5b315d80d5",
            "_dom_classes": [],
            "description": "",
            "_model_name": "HTMLModel",
            "placeholder": "​",
            "_view_module": "@jupyter-widgets/controls",
            "_model_module_version": "1.5.0",
            "value": "",
            "_view_count": null,
            "_view_module_version": "1.5.0",
            "description_tooltip": null,
            "_model_module": "@jupyter-widgets/controls",
            "layout": "IPY_MODEL_14ac8abc49c140ee969f69a70394e0ee"
          }
        },
        "eaffca2691c44313b77eae5a505342a0": {
          "model_module": "@jupyter-widgets/controls",
          "model_name": "FloatProgressModel",
          "model_module_version": "1.5.0",
          "state": {
            "_view_name": "ProgressView",
            "style": "IPY_MODEL_1b83913463a94d3782c5b5dae2be5126",
            "_dom_classes": [],
            "description": "",
            "_model_name": "FloatProgressModel",
            "bar_style": "success",
            "max": 9912422,
            "_view_module": "@jupyter-widgets/controls",
            "_model_module_version": "1.5.0",
            "value": 9912422,
            "_view_count": null,
            "_view_module_version": "1.5.0",
            "orientation": "horizontal",
            "min": 0,
            "description_tooltip": null,
            "_model_module": "@jupyter-widgets/controls",
            "layout": "IPY_MODEL_6c0f7fe651d34136aae586f087633c15"
          }
        },
        "5ba86c170fe1413fbbe01c1cb8b0fbce": {
          "model_module": "@jupyter-widgets/controls",
          "model_name": "HTMLModel",
          "model_module_version": "1.5.0",
          "state": {
            "_view_name": "HTMLView",
            "style": "IPY_MODEL_a246cc20bdbe4ae38f445f3ea84d374a",
            "_dom_classes": [],
            "description": "",
            "_model_name": "HTMLModel",
            "placeholder": "​",
            "_view_module": "@jupyter-widgets/controls",
            "_model_module_version": "1.5.0",
            "value": " 9913344/? [00:00&lt;00:00, 45277478.20it/s]",
            "_view_count": null,
            "_view_module_version": "1.5.0",
            "description_tooltip": null,
            "_model_module": "@jupyter-widgets/controls",
            "layout": "IPY_MODEL_b5414113f0f44694a70cc360d15768c4"
          }
        },
        "23e0009dc8954502bf1f6a5b315d80d5": {
          "model_module": "@jupyter-widgets/controls",
          "model_name": "DescriptionStyleModel",
          "model_module_version": "1.5.0",
          "state": {
            "_view_name": "StyleView",
            "_model_name": "DescriptionStyleModel",
            "description_width": "",
            "_view_module": "@jupyter-widgets/base",
            "_model_module_version": "1.5.0",
            "_view_count": null,
            "_view_module_version": "1.2.0",
            "_model_module": "@jupyter-widgets/controls"
          }
        },
        "14ac8abc49c140ee969f69a70394e0ee": {
          "model_module": "@jupyter-widgets/base",
          "model_name": "LayoutModel",
          "model_module_version": "1.2.0",
          "state": {
            "_view_name": "LayoutView",
            "grid_template_rows": null,
            "right": null,
            "justify_content": null,
            "_view_module": "@jupyter-widgets/base",
            "overflow": null,
            "_model_module_version": "1.2.0",
            "_view_count": null,
            "flex_flow": null,
            "width": null,
            "min_width": null,
            "border": null,
            "align_items": null,
            "bottom": null,
            "_model_module": "@jupyter-widgets/base",
            "top": null,
            "grid_column": null,
            "overflow_y": null,
            "overflow_x": null,
            "grid_auto_flow": null,
            "grid_area": null,
            "grid_template_columns": null,
            "flex": null,
            "_model_name": "LayoutModel",
            "justify_items": null,
            "grid_row": null,
            "max_height": null,
            "align_content": null,
            "visibility": null,
            "align_self": null,
            "height": null,
            "min_height": null,
            "padding": null,
            "grid_auto_rows": null,
            "grid_gap": null,
            "max_width": null,
            "order": null,
            "_view_module_version": "1.2.0",
            "grid_template_areas": null,
            "object_position": null,
            "object_fit": null,
            "grid_auto_columns": null,
            "margin": null,
            "display": null,
            "left": null
          }
        },
        "1b83913463a94d3782c5b5dae2be5126": {
          "model_module": "@jupyter-widgets/controls",
          "model_name": "ProgressStyleModel",
          "model_module_version": "1.5.0",
          "state": {
            "_view_name": "StyleView",
            "_model_name": "ProgressStyleModel",
            "description_width": "",
            "_view_module": "@jupyter-widgets/base",
            "_model_module_version": "1.5.0",
            "_view_count": null,
            "_view_module_version": "1.2.0",
            "bar_color": null,
            "_model_module": "@jupyter-widgets/controls"
          }
        },
        "6c0f7fe651d34136aae586f087633c15": {
          "model_module": "@jupyter-widgets/base",
          "model_name": "LayoutModel",
          "model_module_version": "1.2.0",
          "state": {
            "_view_name": "LayoutView",
            "grid_template_rows": null,
            "right": null,
            "justify_content": null,
            "_view_module": "@jupyter-widgets/base",
            "overflow": null,
            "_model_module_version": "1.2.0",
            "_view_count": null,
            "flex_flow": null,
            "width": null,
            "min_width": null,
            "border": null,
            "align_items": null,
            "bottom": null,
            "_model_module": "@jupyter-widgets/base",
            "top": null,
            "grid_column": null,
            "overflow_y": null,
            "overflow_x": null,
            "grid_auto_flow": null,
            "grid_area": null,
            "grid_template_columns": null,
            "flex": null,
            "_model_name": "LayoutModel",
            "justify_items": null,
            "grid_row": null,
            "max_height": null,
            "align_content": null,
            "visibility": null,
            "align_self": null,
            "height": null,
            "min_height": null,
            "padding": null,
            "grid_auto_rows": null,
            "grid_gap": null,
            "max_width": null,
            "order": null,
            "_view_module_version": "1.2.0",
            "grid_template_areas": null,
            "object_position": null,
            "object_fit": null,
            "grid_auto_columns": null,
            "margin": null,
            "display": null,
            "left": null
          }
        },
        "a246cc20bdbe4ae38f445f3ea84d374a": {
          "model_module": "@jupyter-widgets/controls",
          "model_name": "DescriptionStyleModel",
          "model_module_version": "1.5.0",
          "state": {
            "_view_name": "StyleView",
            "_model_name": "DescriptionStyleModel",
            "description_width": "",
            "_view_module": "@jupyter-widgets/base",
            "_model_module_version": "1.5.0",
            "_view_count": null,
            "_view_module_version": "1.2.0",
            "_model_module": "@jupyter-widgets/controls"
          }
        },
        "b5414113f0f44694a70cc360d15768c4": {
          "model_module": "@jupyter-widgets/base",
          "model_name": "LayoutModel",
          "model_module_version": "1.2.0",
          "state": {
            "_view_name": "LayoutView",
            "grid_template_rows": null,
            "right": null,
            "justify_content": null,
            "_view_module": "@jupyter-widgets/base",
            "overflow": null,
            "_model_module_version": "1.2.0",
            "_view_count": null,
            "flex_flow": null,
            "width": null,
            "min_width": null,
            "border": null,
            "align_items": null,
            "bottom": null,
            "_model_module": "@jupyter-widgets/base",
            "top": null,
            "grid_column": null,
            "overflow_y": null,
            "overflow_x": null,
            "grid_auto_flow": null,
            "grid_area": null,
            "grid_template_columns": null,
            "flex": null,
            "_model_name": "LayoutModel",
            "justify_items": null,
            "grid_row": null,
            "max_height": null,
            "align_content": null,
            "visibility": null,
            "align_self": null,
            "height": null,
            "min_height": null,
            "padding": null,
            "grid_auto_rows": null,
            "grid_gap": null,
            "max_width": null,
            "order": null,
            "_view_module_version": "1.2.0",
            "grid_template_areas": null,
            "object_position": null,
            "object_fit": null,
            "grid_auto_columns": null,
            "margin": null,
            "display": null,
            "left": null
          }
        },
        "dec5fd12871446bb85a924790209eb3a": {
          "model_module": "@jupyter-widgets/controls",
          "model_name": "HBoxModel",
          "model_module_version": "1.5.0",
          "state": {
            "_view_name": "HBoxView",
            "_dom_classes": [],
            "_model_name": "HBoxModel",
            "_view_module": "@jupyter-widgets/controls",
            "_model_module_version": "1.5.0",
            "_view_count": null,
            "_view_module_version": "1.5.0",
            "box_style": "",
            "layout": "IPY_MODEL_c9e7730fb0ac4c13889b68de8f5d1956",
            "_model_module": "@jupyter-widgets/controls",
            "children": [
              "IPY_MODEL_b43fddf88a0c4b318d820e812705f266",
              "IPY_MODEL_c324e45093da437886ae9d5bf9d855cc",
              "IPY_MODEL_a7e7d0e8215345fb8e712cb66016c065"
            ]
          }
        },
        "c9e7730fb0ac4c13889b68de8f5d1956": {
          "model_module": "@jupyter-widgets/base",
          "model_name": "LayoutModel",
          "model_module_version": "1.2.0",
          "state": {
            "_view_name": "LayoutView",
            "grid_template_rows": null,
            "right": null,
            "justify_content": null,
            "_view_module": "@jupyter-widgets/base",
            "overflow": null,
            "_model_module_version": "1.2.0",
            "_view_count": null,
            "flex_flow": null,
            "width": null,
            "min_width": null,
            "border": null,
            "align_items": null,
            "bottom": null,
            "_model_module": "@jupyter-widgets/base",
            "top": null,
            "grid_column": null,
            "overflow_y": null,
            "overflow_x": null,
            "grid_auto_flow": null,
            "grid_area": null,
            "grid_template_columns": null,
            "flex": null,
            "_model_name": "LayoutModel",
            "justify_items": null,
            "grid_row": null,
            "max_height": null,
            "align_content": null,
            "visibility": null,
            "align_self": null,
            "height": null,
            "min_height": null,
            "padding": null,
            "grid_auto_rows": null,
            "grid_gap": null,
            "max_width": null,
            "order": null,
            "_view_module_version": "1.2.0",
            "grid_template_areas": null,
            "object_position": null,
            "object_fit": null,
            "grid_auto_columns": null,
            "margin": null,
            "display": null,
            "left": null
          }
        },
        "b43fddf88a0c4b318d820e812705f266": {
          "model_module": "@jupyter-widgets/controls",
          "model_name": "HTMLModel",
          "model_module_version": "1.5.0",
          "state": {
            "_view_name": "HTMLView",
            "style": "IPY_MODEL_5965657fbe6647c9a9e8e74c426682d1",
            "_dom_classes": [],
            "description": "",
            "_model_name": "HTMLModel",
            "placeholder": "​",
            "_view_module": "@jupyter-widgets/controls",
            "_model_module_version": "1.5.0",
            "value": "",
            "_view_count": null,
            "_view_module_version": "1.5.0",
            "description_tooltip": null,
            "_model_module": "@jupyter-widgets/controls",
            "layout": "IPY_MODEL_bc790a3bb7bc4454a9bc484d049168a3"
          }
        },
        "c324e45093da437886ae9d5bf9d855cc": {
          "model_module": "@jupyter-widgets/controls",
          "model_name": "FloatProgressModel",
          "model_module_version": "1.5.0",
          "state": {
            "_view_name": "ProgressView",
            "style": "IPY_MODEL_29f565ea2ad04e7f81db1b33d36b7681",
            "_dom_classes": [],
            "description": "",
            "_model_name": "FloatProgressModel",
            "bar_style": "success",
            "max": 28881,
            "_view_module": "@jupyter-widgets/controls",
            "_model_module_version": "1.5.0",
            "value": 28881,
            "_view_count": null,
            "_view_module_version": "1.5.0",
            "orientation": "horizontal",
            "min": 0,
            "description_tooltip": null,
            "_model_module": "@jupyter-widgets/controls",
            "layout": "IPY_MODEL_b55cdf6d775443b591ba24773ce71f98"
          }
        },
        "a7e7d0e8215345fb8e712cb66016c065": {
          "model_module": "@jupyter-widgets/controls",
          "model_name": "HTMLModel",
          "model_module_version": "1.5.0",
          "state": {
            "_view_name": "HTMLView",
            "style": "IPY_MODEL_d864edd6617941128491f68d0cd926ff",
            "_dom_classes": [],
            "description": "",
            "_model_name": "HTMLModel",
            "placeholder": "​",
            "_view_module": "@jupyter-widgets/controls",
            "_model_module_version": "1.5.0",
            "value": " 29696/? [00:00&lt;00:00, 763025.86it/s]",
            "_view_count": null,
            "_view_module_version": "1.5.0",
            "description_tooltip": null,
            "_model_module": "@jupyter-widgets/controls",
            "layout": "IPY_MODEL_bd3ba869df2840c8a90634b92246a91d"
          }
        },
        "5965657fbe6647c9a9e8e74c426682d1": {
          "model_module": "@jupyter-widgets/controls",
          "model_name": "DescriptionStyleModel",
          "model_module_version": "1.5.0",
          "state": {
            "_view_name": "StyleView",
            "_model_name": "DescriptionStyleModel",
            "description_width": "",
            "_view_module": "@jupyter-widgets/base",
            "_model_module_version": "1.5.0",
            "_view_count": null,
            "_view_module_version": "1.2.0",
            "_model_module": "@jupyter-widgets/controls"
          }
        },
        "bc790a3bb7bc4454a9bc484d049168a3": {
          "model_module": "@jupyter-widgets/base",
          "model_name": "LayoutModel",
          "model_module_version": "1.2.0",
          "state": {
            "_view_name": "LayoutView",
            "grid_template_rows": null,
            "right": null,
            "justify_content": null,
            "_view_module": "@jupyter-widgets/base",
            "overflow": null,
            "_model_module_version": "1.2.0",
            "_view_count": null,
            "flex_flow": null,
            "width": null,
            "min_width": null,
            "border": null,
            "align_items": null,
            "bottom": null,
            "_model_module": "@jupyter-widgets/base",
            "top": null,
            "grid_column": null,
            "overflow_y": null,
            "overflow_x": null,
            "grid_auto_flow": null,
            "grid_area": null,
            "grid_template_columns": null,
            "flex": null,
            "_model_name": "LayoutModel",
            "justify_items": null,
            "grid_row": null,
            "max_height": null,
            "align_content": null,
            "visibility": null,
            "align_self": null,
            "height": null,
            "min_height": null,
            "padding": null,
            "grid_auto_rows": null,
            "grid_gap": null,
            "max_width": null,
            "order": null,
            "_view_module_version": "1.2.0",
            "grid_template_areas": null,
            "object_position": null,
            "object_fit": null,
            "grid_auto_columns": null,
            "margin": null,
            "display": null,
            "left": null
          }
        },
        "29f565ea2ad04e7f81db1b33d36b7681": {
          "model_module": "@jupyter-widgets/controls",
          "model_name": "ProgressStyleModel",
          "model_module_version": "1.5.0",
          "state": {
            "_view_name": "StyleView",
            "_model_name": "ProgressStyleModel",
            "description_width": "",
            "_view_module": "@jupyter-widgets/base",
            "_model_module_version": "1.5.0",
            "_view_count": null,
            "_view_module_version": "1.2.0",
            "bar_color": null,
            "_model_module": "@jupyter-widgets/controls"
          }
        },
        "b55cdf6d775443b591ba24773ce71f98": {
          "model_module": "@jupyter-widgets/base",
          "model_name": "LayoutModel",
          "model_module_version": "1.2.0",
          "state": {
            "_view_name": "LayoutView",
            "grid_template_rows": null,
            "right": null,
            "justify_content": null,
            "_view_module": "@jupyter-widgets/base",
            "overflow": null,
            "_model_module_version": "1.2.0",
            "_view_count": null,
            "flex_flow": null,
            "width": null,
            "min_width": null,
            "border": null,
            "align_items": null,
            "bottom": null,
            "_model_module": "@jupyter-widgets/base",
            "top": null,
            "grid_column": null,
            "overflow_y": null,
            "overflow_x": null,
            "grid_auto_flow": null,
            "grid_area": null,
            "grid_template_columns": null,
            "flex": null,
            "_model_name": "LayoutModel",
            "justify_items": null,
            "grid_row": null,
            "max_height": null,
            "align_content": null,
            "visibility": null,
            "align_self": null,
            "height": null,
            "min_height": null,
            "padding": null,
            "grid_auto_rows": null,
            "grid_gap": null,
            "max_width": null,
            "order": null,
            "_view_module_version": "1.2.0",
            "grid_template_areas": null,
            "object_position": null,
            "object_fit": null,
            "grid_auto_columns": null,
            "margin": null,
            "display": null,
            "left": null
          }
        },
        "d864edd6617941128491f68d0cd926ff": {
          "model_module": "@jupyter-widgets/controls",
          "model_name": "DescriptionStyleModel",
          "model_module_version": "1.5.0",
          "state": {
            "_view_name": "StyleView",
            "_model_name": "DescriptionStyleModel",
            "description_width": "",
            "_view_module": "@jupyter-widgets/base",
            "_model_module_version": "1.5.0",
            "_view_count": null,
            "_view_module_version": "1.2.0",
            "_model_module": "@jupyter-widgets/controls"
          }
        },
        "bd3ba869df2840c8a90634b92246a91d": {
          "model_module": "@jupyter-widgets/base",
          "model_name": "LayoutModel",
          "model_module_version": "1.2.0",
          "state": {
            "_view_name": "LayoutView",
            "grid_template_rows": null,
            "right": null,
            "justify_content": null,
            "_view_module": "@jupyter-widgets/base",
            "overflow": null,
            "_model_module_version": "1.2.0",
            "_view_count": null,
            "flex_flow": null,
            "width": null,
            "min_width": null,
            "border": null,
            "align_items": null,
            "bottom": null,
            "_model_module": "@jupyter-widgets/base",
            "top": null,
            "grid_column": null,
            "overflow_y": null,
            "overflow_x": null,
            "grid_auto_flow": null,
            "grid_area": null,
            "grid_template_columns": null,
            "flex": null,
            "_model_name": "LayoutModel",
            "justify_items": null,
            "grid_row": null,
            "max_height": null,
            "align_content": null,
            "visibility": null,
            "align_self": null,
            "height": null,
            "min_height": null,
            "padding": null,
            "grid_auto_rows": null,
            "grid_gap": null,
            "max_width": null,
            "order": null,
            "_view_module_version": "1.2.0",
            "grid_template_areas": null,
            "object_position": null,
            "object_fit": null,
            "grid_auto_columns": null,
            "margin": null,
            "display": null,
            "left": null
          }
        },
        "7a74d0abc912423db747b450ac13ae63": {
          "model_module": "@jupyter-widgets/controls",
          "model_name": "HBoxModel",
          "model_module_version": "1.5.0",
          "state": {
            "_view_name": "HBoxView",
            "_dom_classes": [],
            "_model_name": "HBoxModel",
            "_view_module": "@jupyter-widgets/controls",
            "_model_module_version": "1.5.0",
            "_view_count": null,
            "_view_module_version": "1.5.0",
            "box_style": "",
            "layout": "IPY_MODEL_df4e8c25a9a54d7f8ed44f64a874c461",
            "_model_module": "@jupyter-widgets/controls",
            "children": [
              "IPY_MODEL_68a61ca323e8461fa8a7acaeb7283b84",
              "IPY_MODEL_d2c9ed19fde840718a301ed1ce54d214",
              "IPY_MODEL_5af31fc22c31433a94861ee3bc434403"
            ]
          }
        },
        "df4e8c25a9a54d7f8ed44f64a874c461": {
          "model_module": "@jupyter-widgets/base",
          "model_name": "LayoutModel",
          "model_module_version": "1.2.0",
          "state": {
            "_view_name": "LayoutView",
            "grid_template_rows": null,
            "right": null,
            "justify_content": null,
            "_view_module": "@jupyter-widgets/base",
            "overflow": null,
            "_model_module_version": "1.2.0",
            "_view_count": null,
            "flex_flow": null,
            "width": null,
            "min_width": null,
            "border": null,
            "align_items": null,
            "bottom": null,
            "_model_module": "@jupyter-widgets/base",
            "top": null,
            "grid_column": null,
            "overflow_y": null,
            "overflow_x": null,
            "grid_auto_flow": null,
            "grid_area": null,
            "grid_template_columns": null,
            "flex": null,
            "_model_name": "LayoutModel",
            "justify_items": null,
            "grid_row": null,
            "max_height": null,
            "align_content": null,
            "visibility": null,
            "align_self": null,
            "height": null,
            "min_height": null,
            "padding": null,
            "grid_auto_rows": null,
            "grid_gap": null,
            "max_width": null,
            "order": null,
            "_view_module_version": "1.2.0",
            "grid_template_areas": null,
            "object_position": null,
            "object_fit": null,
            "grid_auto_columns": null,
            "margin": null,
            "display": null,
            "left": null
          }
        },
        "68a61ca323e8461fa8a7acaeb7283b84": {
          "model_module": "@jupyter-widgets/controls",
          "model_name": "HTMLModel",
          "model_module_version": "1.5.0",
          "state": {
            "_view_name": "HTMLView",
            "style": "IPY_MODEL_98f6d601618b4608a7102fa98d1a460e",
            "_dom_classes": [],
            "description": "",
            "_model_name": "HTMLModel",
            "placeholder": "​",
            "_view_module": "@jupyter-widgets/controls",
            "_model_module_version": "1.5.0",
            "value": "",
            "_view_count": null,
            "_view_module_version": "1.5.0",
            "description_tooltip": null,
            "_model_module": "@jupyter-widgets/controls",
            "layout": "IPY_MODEL_05a1e3c02103419594c8fbfba72a52c5"
          }
        },
        "d2c9ed19fde840718a301ed1ce54d214": {
          "model_module": "@jupyter-widgets/controls",
          "model_name": "FloatProgressModel",
          "model_module_version": "1.5.0",
          "state": {
            "_view_name": "ProgressView",
            "style": "IPY_MODEL_41bfa350185a40a6aac6ecdc09be7ece",
            "_dom_classes": [],
            "description": "",
            "_model_name": "FloatProgressModel",
            "bar_style": "success",
            "max": 1648877,
            "_view_module": "@jupyter-widgets/controls",
            "_model_module_version": "1.5.0",
            "value": 1648877,
            "_view_count": null,
            "_view_module_version": "1.5.0",
            "orientation": "horizontal",
            "min": 0,
            "description_tooltip": null,
            "_model_module": "@jupyter-widgets/controls",
            "layout": "IPY_MODEL_341f4ef60c3a4b15b1d88fb35f4b0cdd"
          }
        },
        "5af31fc22c31433a94861ee3bc434403": {
          "model_module": "@jupyter-widgets/controls",
          "model_name": "HTMLModel",
          "model_module_version": "1.5.0",
          "state": {
            "_view_name": "HTMLView",
            "style": "IPY_MODEL_c2a9d0d7160f4925ac55f67b5148284a",
            "_dom_classes": [],
            "description": "",
            "_model_name": "HTMLModel",
            "placeholder": "​",
            "_view_module": "@jupyter-widgets/controls",
            "_model_module_version": "1.5.0",
            "value": " 1649664/? [00:00&lt;00:00, 13689652.79it/s]",
            "_view_count": null,
            "_view_module_version": "1.5.0",
            "description_tooltip": null,
            "_model_module": "@jupyter-widgets/controls",
            "layout": "IPY_MODEL_703e3127d14f41089fe150439a0906de"
          }
        },
        "98f6d601618b4608a7102fa98d1a460e": {
          "model_module": "@jupyter-widgets/controls",
          "model_name": "DescriptionStyleModel",
          "model_module_version": "1.5.0",
          "state": {
            "_view_name": "StyleView",
            "_model_name": "DescriptionStyleModel",
            "description_width": "",
            "_view_module": "@jupyter-widgets/base",
            "_model_module_version": "1.5.0",
            "_view_count": null,
            "_view_module_version": "1.2.0",
            "_model_module": "@jupyter-widgets/controls"
          }
        },
        "05a1e3c02103419594c8fbfba72a52c5": {
          "model_module": "@jupyter-widgets/base",
          "model_name": "LayoutModel",
          "model_module_version": "1.2.0",
          "state": {
            "_view_name": "LayoutView",
            "grid_template_rows": null,
            "right": null,
            "justify_content": null,
            "_view_module": "@jupyter-widgets/base",
            "overflow": null,
            "_model_module_version": "1.2.0",
            "_view_count": null,
            "flex_flow": null,
            "width": null,
            "min_width": null,
            "border": null,
            "align_items": null,
            "bottom": null,
            "_model_module": "@jupyter-widgets/base",
            "top": null,
            "grid_column": null,
            "overflow_y": null,
            "overflow_x": null,
            "grid_auto_flow": null,
            "grid_area": null,
            "grid_template_columns": null,
            "flex": null,
            "_model_name": "LayoutModel",
            "justify_items": null,
            "grid_row": null,
            "max_height": null,
            "align_content": null,
            "visibility": null,
            "align_self": null,
            "height": null,
            "min_height": null,
            "padding": null,
            "grid_auto_rows": null,
            "grid_gap": null,
            "max_width": null,
            "order": null,
            "_view_module_version": "1.2.0",
            "grid_template_areas": null,
            "object_position": null,
            "object_fit": null,
            "grid_auto_columns": null,
            "margin": null,
            "display": null,
            "left": null
          }
        },
        "41bfa350185a40a6aac6ecdc09be7ece": {
          "model_module": "@jupyter-widgets/controls",
          "model_name": "ProgressStyleModel",
          "model_module_version": "1.5.0",
          "state": {
            "_view_name": "StyleView",
            "_model_name": "ProgressStyleModel",
            "description_width": "",
            "_view_module": "@jupyter-widgets/base",
            "_model_module_version": "1.5.0",
            "_view_count": null,
            "_view_module_version": "1.2.0",
            "bar_color": null,
            "_model_module": "@jupyter-widgets/controls"
          }
        },
        "341f4ef60c3a4b15b1d88fb35f4b0cdd": {
          "model_module": "@jupyter-widgets/base",
          "model_name": "LayoutModel",
          "model_module_version": "1.2.0",
          "state": {
            "_view_name": "LayoutView",
            "grid_template_rows": null,
            "right": null,
            "justify_content": null,
            "_view_module": "@jupyter-widgets/base",
            "overflow": null,
            "_model_module_version": "1.2.0",
            "_view_count": null,
            "flex_flow": null,
            "width": null,
            "min_width": null,
            "border": null,
            "align_items": null,
            "bottom": null,
            "_model_module": "@jupyter-widgets/base",
            "top": null,
            "grid_column": null,
            "overflow_y": null,
            "overflow_x": null,
            "grid_auto_flow": null,
            "grid_area": null,
            "grid_template_columns": null,
            "flex": null,
            "_model_name": "LayoutModel",
            "justify_items": null,
            "grid_row": null,
            "max_height": null,
            "align_content": null,
            "visibility": null,
            "align_self": null,
            "height": null,
            "min_height": null,
            "padding": null,
            "grid_auto_rows": null,
            "grid_gap": null,
            "max_width": null,
            "order": null,
            "_view_module_version": "1.2.0",
            "grid_template_areas": null,
            "object_position": null,
            "object_fit": null,
            "grid_auto_columns": null,
            "margin": null,
            "display": null,
            "left": null
          }
        },
        "c2a9d0d7160f4925ac55f67b5148284a": {
          "model_module": "@jupyter-widgets/controls",
          "model_name": "DescriptionStyleModel",
          "model_module_version": "1.5.0",
          "state": {
            "_view_name": "StyleView",
            "_model_name": "DescriptionStyleModel",
            "description_width": "",
            "_view_module": "@jupyter-widgets/base",
            "_model_module_version": "1.5.0",
            "_view_count": null,
            "_view_module_version": "1.2.0",
            "_model_module": "@jupyter-widgets/controls"
          }
        },
        "703e3127d14f41089fe150439a0906de": {
          "model_module": "@jupyter-widgets/base",
          "model_name": "LayoutModel",
          "model_module_version": "1.2.0",
          "state": {
            "_view_name": "LayoutView",
            "grid_template_rows": null,
            "right": null,
            "justify_content": null,
            "_view_module": "@jupyter-widgets/base",
            "overflow": null,
            "_model_module_version": "1.2.0",
            "_view_count": null,
            "flex_flow": null,
            "width": null,
            "min_width": null,
            "border": null,
            "align_items": null,
            "bottom": null,
            "_model_module": "@jupyter-widgets/base",
            "top": null,
            "grid_column": null,
            "overflow_y": null,
            "overflow_x": null,
            "grid_auto_flow": null,
            "grid_area": null,
            "grid_template_columns": null,
            "flex": null,
            "_model_name": "LayoutModel",
            "justify_items": null,
            "grid_row": null,
            "max_height": null,
            "align_content": null,
            "visibility": null,
            "align_self": null,
            "height": null,
            "min_height": null,
            "padding": null,
            "grid_auto_rows": null,
            "grid_gap": null,
            "max_width": null,
            "order": null,
            "_view_module_version": "1.2.0",
            "grid_template_areas": null,
            "object_position": null,
            "object_fit": null,
            "grid_auto_columns": null,
            "margin": null,
            "display": null,
            "left": null
          }
        },
        "85882e5080df4c15a9029979ade3e0bd": {
          "model_module": "@jupyter-widgets/controls",
          "model_name": "HBoxModel",
          "model_module_version": "1.5.0",
          "state": {
            "_view_name": "HBoxView",
            "_dom_classes": [],
            "_model_name": "HBoxModel",
            "_view_module": "@jupyter-widgets/controls",
            "_model_module_version": "1.5.0",
            "_view_count": null,
            "_view_module_version": "1.5.0",
            "box_style": "",
            "layout": "IPY_MODEL_38618533e42d4e509e5f40cc2ee94296",
            "_model_module": "@jupyter-widgets/controls",
            "children": [
              "IPY_MODEL_601312d74f86491f8ad7d6a1db982c96",
              "IPY_MODEL_de36d35b68e34467a93585094bb20b3a",
              "IPY_MODEL_a9b7bd62392447f695b5a92206417ee2"
            ]
          }
        },
        "38618533e42d4e509e5f40cc2ee94296": {
          "model_module": "@jupyter-widgets/base",
          "model_name": "LayoutModel",
          "model_module_version": "1.2.0",
          "state": {
            "_view_name": "LayoutView",
            "grid_template_rows": null,
            "right": null,
            "justify_content": null,
            "_view_module": "@jupyter-widgets/base",
            "overflow": null,
            "_model_module_version": "1.2.0",
            "_view_count": null,
            "flex_flow": null,
            "width": null,
            "min_width": null,
            "border": null,
            "align_items": null,
            "bottom": null,
            "_model_module": "@jupyter-widgets/base",
            "top": null,
            "grid_column": null,
            "overflow_y": null,
            "overflow_x": null,
            "grid_auto_flow": null,
            "grid_area": null,
            "grid_template_columns": null,
            "flex": null,
            "_model_name": "LayoutModel",
            "justify_items": null,
            "grid_row": null,
            "max_height": null,
            "align_content": null,
            "visibility": null,
            "align_self": null,
            "height": null,
            "min_height": null,
            "padding": null,
            "grid_auto_rows": null,
            "grid_gap": null,
            "max_width": null,
            "order": null,
            "_view_module_version": "1.2.0",
            "grid_template_areas": null,
            "object_position": null,
            "object_fit": null,
            "grid_auto_columns": null,
            "margin": null,
            "display": null,
            "left": null
          }
        },
        "601312d74f86491f8ad7d6a1db982c96": {
          "model_module": "@jupyter-widgets/controls",
          "model_name": "HTMLModel",
          "model_module_version": "1.5.0",
          "state": {
            "_view_name": "HTMLView",
            "style": "IPY_MODEL_64cc173201a14ae596b70e3eb45c715a",
            "_dom_classes": [],
            "description": "",
            "_model_name": "HTMLModel",
            "placeholder": "​",
            "_view_module": "@jupyter-widgets/controls",
            "_model_module_version": "1.5.0",
            "value": "",
            "_view_count": null,
            "_view_module_version": "1.5.0",
            "description_tooltip": null,
            "_model_module": "@jupyter-widgets/controls",
            "layout": "IPY_MODEL_42f0d0b224354ecb8493be9079faedfc"
          }
        },
        "de36d35b68e34467a93585094bb20b3a": {
          "model_module": "@jupyter-widgets/controls",
          "model_name": "FloatProgressModel",
          "model_module_version": "1.5.0",
          "state": {
            "_view_name": "ProgressView",
            "style": "IPY_MODEL_e4a1167a3a9144c29da7e10c62094621",
            "_dom_classes": [],
            "description": "",
            "_model_name": "FloatProgressModel",
            "bar_style": "success",
            "max": 4542,
            "_view_module": "@jupyter-widgets/controls",
            "_model_module_version": "1.5.0",
            "value": 4542,
            "_view_count": null,
            "_view_module_version": "1.5.0",
            "orientation": "horizontal",
            "min": 0,
            "description_tooltip": null,
            "_model_module": "@jupyter-widgets/controls",
            "layout": "IPY_MODEL_33554cd3aee549e3a37d049b9d6562db"
          }
        },
        "a9b7bd62392447f695b5a92206417ee2": {
          "model_module": "@jupyter-widgets/controls",
          "model_name": "HTMLModel",
          "model_module_version": "1.5.0",
          "state": {
            "_view_name": "HTMLView",
            "style": "IPY_MODEL_2b6f15bf7a1a42bcb98f4a96a8834259",
            "_dom_classes": [],
            "description": "",
            "_model_name": "HTMLModel",
            "placeholder": "​",
            "_view_module": "@jupyter-widgets/controls",
            "_model_module_version": "1.5.0",
            "value": " 5120/? [00:00&lt;00:00, 123980.07it/s]",
            "_view_count": null,
            "_view_module_version": "1.5.0",
            "description_tooltip": null,
            "_model_module": "@jupyter-widgets/controls",
            "layout": "IPY_MODEL_d3b20d5b67a340dcaa57035a56f433b9"
          }
        },
        "64cc173201a14ae596b70e3eb45c715a": {
          "model_module": "@jupyter-widgets/controls",
          "model_name": "DescriptionStyleModel",
          "model_module_version": "1.5.0",
          "state": {
            "_view_name": "StyleView",
            "_model_name": "DescriptionStyleModel",
            "description_width": "",
            "_view_module": "@jupyter-widgets/base",
            "_model_module_version": "1.5.0",
            "_view_count": null,
            "_view_module_version": "1.2.0",
            "_model_module": "@jupyter-widgets/controls"
          }
        },
        "42f0d0b224354ecb8493be9079faedfc": {
          "model_module": "@jupyter-widgets/base",
          "model_name": "LayoutModel",
          "model_module_version": "1.2.0",
          "state": {
            "_view_name": "LayoutView",
            "grid_template_rows": null,
            "right": null,
            "justify_content": null,
            "_view_module": "@jupyter-widgets/base",
            "overflow": null,
            "_model_module_version": "1.2.0",
            "_view_count": null,
            "flex_flow": null,
            "width": null,
            "min_width": null,
            "border": null,
            "align_items": null,
            "bottom": null,
            "_model_module": "@jupyter-widgets/base",
            "top": null,
            "grid_column": null,
            "overflow_y": null,
            "overflow_x": null,
            "grid_auto_flow": null,
            "grid_area": null,
            "grid_template_columns": null,
            "flex": null,
            "_model_name": "LayoutModel",
            "justify_items": null,
            "grid_row": null,
            "max_height": null,
            "align_content": null,
            "visibility": null,
            "align_self": null,
            "height": null,
            "min_height": null,
            "padding": null,
            "grid_auto_rows": null,
            "grid_gap": null,
            "max_width": null,
            "order": null,
            "_view_module_version": "1.2.0",
            "grid_template_areas": null,
            "object_position": null,
            "object_fit": null,
            "grid_auto_columns": null,
            "margin": null,
            "display": null,
            "left": null
          }
        },
        "e4a1167a3a9144c29da7e10c62094621": {
          "model_module": "@jupyter-widgets/controls",
          "model_name": "ProgressStyleModel",
          "model_module_version": "1.5.0",
          "state": {
            "_view_name": "StyleView",
            "_model_name": "ProgressStyleModel",
            "description_width": "",
            "_view_module": "@jupyter-widgets/base",
            "_model_module_version": "1.5.0",
            "_view_count": null,
            "_view_module_version": "1.2.0",
            "bar_color": null,
            "_model_module": "@jupyter-widgets/controls"
          }
        },
        "33554cd3aee549e3a37d049b9d6562db": {
          "model_module": "@jupyter-widgets/base",
          "model_name": "LayoutModel",
          "model_module_version": "1.2.0",
          "state": {
            "_view_name": "LayoutView",
            "grid_template_rows": null,
            "right": null,
            "justify_content": null,
            "_view_module": "@jupyter-widgets/base",
            "overflow": null,
            "_model_module_version": "1.2.0",
            "_view_count": null,
            "flex_flow": null,
            "width": null,
            "min_width": null,
            "border": null,
            "align_items": null,
            "bottom": null,
            "_model_module": "@jupyter-widgets/base",
            "top": null,
            "grid_column": null,
            "overflow_y": null,
            "overflow_x": null,
            "grid_auto_flow": null,
            "grid_area": null,
            "grid_template_columns": null,
            "flex": null,
            "_model_name": "LayoutModel",
            "justify_items": null,
            "grid_row": null,
            "max_height": null,
            "align_content": null,
            "visibility": null,
            "align_self": null,
            "height": null,
            "min_height": null,
            "padding": null,
            "grid_auto_rows": null,
            "grid_gap": null,
            "max_width": null,
            "order": null,
            "_view_module_version": "1.2.0",
            "grid_template_areas": null,
            "object_position": null,
            "object_fit": null,
            "grid_auto_columns": null,
            "margin": null,
            "display": null,
            "left": null
          }
        },
        "2b6f15bf7a1a42bcb98f4a96a8834259": {
          "model_module": "@jupyter-widgets/controls",
          "model_name": "DescriptionStyleModel",
          "model_module_version": "1.5.0",
          "state": {
            "_view_name": "StyleView",
            "_model_name": "DescriptionStyleModel",
            "description_width": "",
            "_view_module": "@jupyter-widgets/base",
            "_model_module_version": "1.5.0",
            "_view_count": null,
            "_view_module_version": "1.2.0",
            "_model_module": "@jupyter-widgets/controls"
          }
        },
        "d3b20d5b67a340dcaa57035a56f433b9": {
          "model_module": "@jupyter-widgets/base",
          "model_name": "LayoutModel",
          "model_module_version": "1.2.0",
          "state": {
            "_view_name": "LayoutView",
            "grid_template_rows": null,
            "right": null,
            "justify_content": null,
            "_view_module": "@jupyter-widgets/base",
            "overflow": null,
            "_model_module_version": "1.2.0",
            "_view_count": null,
            "flex_flow": null,
            "width": null,
            "min_width": null,
            "border": null,
            "align_items": null,
            "bottom": null,
            "_model_module": "@jupyter-widgets/base",
            "top": null,
            "grid_column": null,
            "overflow_y": null,
            "overflow_x": null,
            "grid_auto_flow": null,
            "grid_area": null,
            "grid_template_columns": null,
            "flex": null,
            "_model_name": "LayoutModel",
            "justify_items": null,
            "grid_row": null,
            "max_height": null,
            "align_content": null,
            "visibility": null,
            "align_self": null,
            "height": null,
            "min_height": null,
            "padding": null,
            "grid_auto_rows": null,
            "grid_gap": null,
            "max_width": null,
            "order": null,
            "_view_module_version": "1.2.0",
            "grid_template_areas": null,
            "object_position": null,
            "object_fit": null,
            "grid_auto_columns": null,
            "margin": null,
            "display": null,
            "left": null
          }
        }
      }
    }
  },
  "cells": [
    {
      "cell_type": "markdown",
      "metadata": {
        "id": "v8j75shnZyst"
      },
      "source": [
        "![](https://cdn.icon-icons.com/icons2/2699/PNG/512/pytorch_logo_icon_169823.png)"
      ]
    },
    {
      "cell_type": "markdown",
      "metadata": {
        "id": "gDGQJ14gsV_G"
      },
      "source": [
        "A deep learning neural network learns to map a set of inputs to a set of outputs from training data.\n",
        "\n",
        "We cannot calculate the perfect weights for a neural network; there are too many unknowns. Instead, the problem of learning is cast as a search or optimization problem and an algorithm is used to navigate the space of possible sets of weights the model may use in order to make good or good enough predictions.\n",
        "\n",
        "Typically, a neural network model is trained using the stochastic gradient descent optimization algorithm and weights are updated using the backpropagation of error algorithm.\n",
        "\n",
        "The “gradient” in gradient descent refers to an error gradient. The model with a given set of weights is used to make predictions and the error for those predictions is calculated.\n",
        "\n",
        "The gradient descent algorithm seeks to change the weights so that the next evaluation reduces the error, meaning the optimization algorithm is navigating down the gradient (or slope) of error.\n",
        "\n",
        "Now that we know that training neural nets solves an optimization problem, we can look at how the error of a given set of weights is calculated."
      ]
    },
    {
      "cell_type": "code",
      "metadata": {
        "colab": {
          "base_uri": "https://localhost:8080/"
        },
        "id": "Jdf7ixtwiMaU",
        "outputId": "bd0e2684-b410-47ce-f851-d15dbe60399f"
      },
      "source": [
        "import torch\n",
        "from torch import nn # basic building blocks\n",
        "from torch import optim # optimization algorithms\n",
        "from torchvision import datasets, transforms # get mnist dataset and transform to tensor\n",
        "from torch.utils.data import random_split, DataLoader # basically train_test_split and batching\n",
        "torch.manual_seed(42) # Set pytorch pseudo-random generator at a fixed value"
      ],
      "execution_count": 5,
      "outputs": [
        {
          "output_type": "execute_result",
          "data": {
            "text/plain": [
              "<torch._C.Generator at 0x7fb0586e0a70>"
            ]
          },
          "metadata": {},
          "execution_count": 5
        }
      ]
    },
    {
      "cell_type": "code",
      "metadata": {
        "colab": {
          "base_uri": "https://localhost:8080/"
        },
        "id": "8fYI1ebNqYQJ",
        "outputId": "66c31623-8454-4fa5-ab32-aa13073d8c7e"
      },
      "source": [
        "device = torch.device('cuda' if torch.cuda.is_available() else 'cpu')\n",
        "device"
      ],
      "execution_count": 6,
      "outputs": [
        {
          "output_type": "execute_result",
          "data": {
            "text/plain": [
              "device(type='cuda')"
            ]
          },
          "metadata": {},
          "execution_count": 6
        }
      ]
    },
    {
      "cell_type": "markdown",
      "metadata": {
        "id": "MLGba_U-vSQM"
      },
      "source": [
        "### Load the data"
      ]
    },
    {
      "cell_type": "markdown",
      "metadata": {
        "id": "_nJA_x7sqmUc"
      },
      "source": [
        "The MNIST database (Modified National Institute of Standards and Technology database) is a large database of handwritten digits that is commonly used for training various image processing systems. The MNIST database contains 60,000 training images and 10,000 testing images."
      ]
    },
    {
      "cell_type": "code",
      "metadata": {
        "colab": {
          "base_uri": "https://localhost:8080/",
          "height": 467,
          "referenced_widgets": [
            "535ea6664d4f4ac7b25a3231b7a3ad4a",
            "dd4932d2b780442eb55012ab1016187b",
            "1c61ea08436a4027b52b59e6780da4b6",
            "eaffca2691c44313b77eae5a505342a0",
            "5ba86c170fe1413fbbe01c1cb8b0fbce",
            "23e0009dc8954502bf1f6a5b315d80d5",
            "14ac8abc49c140ee969f69a70394e0ee",
            "1b83913463a94d3782c5b5dae2be5126",
            "6c0f7fe651d34136aae586f087633c15",
            "a246cc20bdbe4ae38f445f3ea84d374a",
            "b5414113f0f44694a70cc360d15768c4",
            "dec5fd12871446bb85a924790209eb3a",
            "c9e7730fb0ac4c13889b68de8f5d1956",
            "b43fddf88a0c4b318d820e812705f266",
            "c324e45093da437886ae9d5bf9d855cc",
            "a7e7d0e8215345fb8e712cb66016c065",
            "5965657fbe6647c9a9e8e74c426682d1",
            "bc790a3bb7bc4454a9bc484d049168a3",
            "29f565ea2ad04e7f81db1b33d36b7681",
            "b55cdf6d775443b591ba24773ce71f98",
            "d864edd6617941128491f68d0cd926ff",
            "bd3ba869df2840c8a90634b92246a91d",
            "7a74d0abc912423db747b450ac13ae63",
            "df4e8c25a9a54d7f8ed44f64a874c461",
            "68a61ca323e8461fa8a7acaeb7283b84",
            "d2c9ed19fde840718a301ed1ce54d214",
            "5af31fc22c31433a94861ee3bc434403",
            "98f6d601618b4608a7102fa98d1a460e",
            "05a1e3c02103419594c8fbfba72a52c5",
            "41bfa350185a40a6aac6ecdc09be7ece",
            "341f4ef60c3a4b15b1d88fb35f4b0cdd",
            "c2a9d0d7160f4925ac55f67b5148284a",
            "703e3127d14f41089fe150439a0906de",
            "85882e5080df4c15a9029979ade3e0bd",
            "38618533e42d4e509e5f40cc2ee94296",
            "601312d74f86491f8ad7d6a1db982c96",
            "de36d35b68e34467a93585094bb20b3a",
            "a9b7bd62392447f695b5a92206417ee2",
            "64cc173201a14ae596b70e3eb45c715a",
            "42f0d0b224354ecb8493be9079faedfc",
            "e4a1167a3a9144c29da7e10c62094621",
            "33554cd3aee549e3a37d049b9d6562db",
            "2b6f15bf7a1a42bcb98f4a96a8834259",
            "d3b20d5b67a340dcaa57035a56f433b9"
          ]
        },
        "id": "sKA7UAmLvTuE",
        "outputId": "b89cf762-1c9f-4452-c542-85b475dd07a5"
      },
      "source": [
        "train_data = datasets.MNIST(\n",
        "    root='data', \n",
        "    train=True, \n",
        "    download=True, \n",
        "    transform=transforms.ToTensor()\n",
        ")\n",
        "\n",
        "test_data = datasets.MNIST(\n",
        "    root='data', \n",
        "    train=False, \n",
        "    transform=transforms.ToTensor()\n",
        ")"
      ],
      "execution_count": 7,
      "outputs": [
        {
          "output_type": "stream",
          "name": "stdout",
          "text": [
            "Downloading http://yann.lecun.com/exdb/mnist/train-images-idx3-ubyte.gz\n",
            "Downloading http://yann.lecun.com/exdb/mnist/train-images-idx3-ubyte.gz to data/MNIST/raw/train-images-idx3-ubyte.gz\n"
          ]
        },
        {
          "output_type": "display_data",
          "data": {
            "application/vnd.jupyter.widget-view+json": {
              "model_id": "535ea6664d4f4ac7b25a3231b7a3ad4a",
              "version_minor": 0,
              "version_major": 2
            },
            "text/plain": [
              "  0%|          | 0/9912422 [00:00<?, ?it/s]"
            ]
          },
          "metadata": {}
        },
        {
          "output_type": "stream",
          "name": "stdout",
          "text": [
            "Extracting data/MNIST/raw/train-images-idx3-ubyte.gz to data/MNIST/raw\n",
            "\n",
            "Downloading http://yann.lecun.com/exdb/mnist/train-labels-idx1-ubyte.gz\n",
            "Downloading http://yann.lecun.com/exdb/mnist/train-labels-idx1-ubyte.gz to data/MNIST/raw/train-labels-idx1-ubyte.gz\n"
          ]
        },
        {
          "output_type": "display_data",
          "data": {
            "application/vnd.jupyter.widget-view+json": {
              "model_id": "dec5fd12871446bb85a924790209eb3a",
              "version_minor": 0,
              "version_major": 2
            },
            "text/plain": [
              "  0%|          | 0/28881 [00:00<?, ?it/s]"
            ]
          },
          "metadata": {}
        },
        {
          "output_type": "stream",
          "name": "stdout",
          "text": [
            "Extracting data/MNIST/raw/train-labels-idx1-ubyte.gz to data/MNIST/raw\n",
            "\n",
            "Downloading http://yann.lecun.com/exdb/mnist/t10k-images-idx3-ubyte.gz\n",
            "Downloading http://yann.lecun.com/exdb/mnist/t10k-images-idx3-ubyte.gz to data/MNIST/raw/t10k-images-idx3-ubyte.gz\n"
          ]
        },
        {
          "output_type": "display_data",
          "data": {
            "application/vnd.jupyter.widget-view+json": {
              "model_id": "7a74d0abc912423db747b450ac13ae63",
              "version_minor": 0,
              "version_major": 2
            },
            "text/plain": [
              "  0%|          | 0/1648877 [00:00<?, ?it/s]"
            ]
          },
          "metadata": {}
        },
        {
          "output_type": "stream",
          "name": "stdout",
          "text": [
            "Extracting data/MNIST/raw/t10k-images-idx3-ubyte.gz to data/MNIST/raw\n",
            "\n",
            "Downloading http://yann.lecun.com/exdb/mnist/t10k-labels-idx1-ubyte.gz\n",
            "Downloading http://yann.lecun.com/exdb/mnist/t10k-labels-idx1-ubyte.gz to data/MNIST/raw/t10k-labels-idx1-ubyte.gz\n"
          ]
        },
        {
          "output_type": "display_data",
          "data": {
            "application/vnd.jupyter.widget-view+json": {
              "model_id": "85882e5080df4c15a9029979ade3e0bd",
              "version_minor": 0,
              "version_major": 2
            },
            "text/plain": [
              "  0%|          | 0/4542 [00:00<?, ?it/s]"
            ]
          },
          "metadata": {}
        },
        {
          "output_type": "stream",
          "name": "stdout",
          "text": [
            "Extracting data/MNIST/raw/t10k-labels-idx1-ubyte.gz to data/MNIST/raw\n",
            "\n"
          ]
        },
        {
          "output_type": "stream",
          "name": "stderr",
          "text": [
            "/usr/local/lib/python3.7/dist-packages/torchvision/datasets/mnist.py:498: UserWarning: The given NumPy array is not writeable, and PyTorch does not support non-writeable tensors. This means you can write to the underlying (supposedly non-writeable) NumPy array using the tensor. You may want to copy the array to protect its data or make it writeable before converting it to a tensor. This type of warning will be suppressed for the rest of this program. (Triggered internally at  /pytorch/torch/csrc/utils/tensor_numpy.cpp:180.)\n",
            "  return torch.from_numpy(parsed.astype(m[2], copy=False)).view(*s)\n"
          ]
        }
      ]
    },
    {
      "cell_type": "code",
      "metadata": {
        "colab": {
          "base_uri": "https://localhost:8080/"
        },
        "id": "Ti_-W67HwXCm",
        "outputId": "44299769-888f-41ee-a864-b016d27d421a"
      },
      "source": [
        "train_data"
      ],
      "execution_count": 8,
      "outputs": [
        {
          "output_type": "execute_result",
          "data": {
            "text/plain": [
              "Dataset MNIST\n",
              "    Number of datapoints: 60000\n",
              "    Root location: data\n",
              "    Split: Train\n",
              "    StandardTransform\n",
              "Transform: ToTensor()"
            ]
          },
          "metadata": {},
          "execution_count": 8
        }
      ]
    },
    {
      "cell_type": "code",
      "metadata": {
        "colab": {
          "base_uri": "https://localhost:8080/"
        },
        "id": "GtpLu__DwYtr",
        "outputId": "7d07dd75-706a-4e99-9ad0-e96ac15df2a3"
      },
      "source": [
        "test_data"
      ],
      "execution_count": 9,
      "outputs": [
        {
          "output_type": "execute_result",
          "data": {
            "text/plain": [
              "Dataset MNIST\n",
              "    Number of datapoints: 10000\n",
              "    Root location: data\n",
              "    Split: Test\n",
              "    StandardTransform\n",
              "Transform: ToTensor()"
            ]
          },
          "metadata": {},
          "execution_count": 9
        }
      ]
    },
    {
      "cell_type": "code",
      "metadata": {
        "colab": {
          "base_uri": "https://localhost:8080/"
        },
        "id": "jI0Wj2PJwf-E",
        "outputId": "9ed0893f-0b64-48ed-8c46-e03cead52f42"
      },
      "source": [
        "train_data.data.size()"
      ],
      "execution_count": 10,
      "outputs": [
        {
          "output_type": "execute_result",
          "data": {
            "text/plain": [
              "torch.Size([60000, 28, 28])"
            ]
          },
          "metadata": {},
          "execution_count": 10
        }
      ]
    },
    {
      "cell_type": "code",
      "metadata": {
        "colab": {
          "base_uri": "https://localhost:8080/"
        },
        "id": "FlQk_GRzwhuj",
        "outputId": "f2537fd9-26a8-4a01-d95b-cd14885bf572"
      },
      "source": [
        "test_data.data.size()"
      ],
      "execution_count": 11,
      "outputs": [
        {
          "output_type": "execute_result",
          "data": {
            "text/plain": [
              "torch.Size([10000, 28, 28])"
            ]
          },
          "metadata": {},
          "execution_count": 11
        }
      ]
    },
    {
      "cell_type": "markdown",
      "metadata": {
        "id": "PiILLqHvwn7H"
      },
      "source": [
        "### Visualize the data"
      ]
    },
    {
      "cell_type": "code",
      "metadata": {
        "colab": {
          "base_uri": "https://localhost:8080/",
          "height": 281
        },
        "id": "gHn8CApYw2-v",
        "outputId": "f6126ce8-15fe-48e2-d069-9499d685a1f0"
      },
      "source": [
        "import matplotlib.pyplot as plt\n",
        "\n",
        "plt.imshow(train_data.data[0], cmap='gray')\n",
        "plt.title('Ground Truth: %i' % train_data.targets[0])\n",
        "plt.show()"
      ],
      "execution_count": 17,
      "outputs": [
        {
          "output_type": "display_data",
          "data": {
            "image/png": "[encoded data removed]",
            "text/plain": [
              "<Figure size 432x288 with 1 Axes>"
            ]
          },
          "metadata": {
            "needs_background": "light"
          }
        }
      ]
    },
    {
      "cell_type": "code",
      "metadata": {
        "colab": {
          "base_uri": "https://localhost:8080/",
          "height": 482
        },
        "id": "rZy66nvtxFVN",
        "outputId": "2376bb39-0f8b-44d8-96fd-4a3c0287ca08"
      },
      "source": [
        "figure = plt.figure(figsize=(8, 8))\n",
        "rows, cols = 3, 3\n",
        "\n",
        "for i in range(1, rows * cols + 1):\n",
        "    sample_idx = torch.randint(len(train_data), size=(1,)).item()\n",
        "    img, label = train_data[sample_idx]\n",
        "    figure.add_subplot(rows, cols, i)\n",
        "    plt.title('%i' % label)\n",
        "    plt.axis('off')\n",
        "    plt.imshow(img.squeeze(), cmap='gray')\n",
        "\n",
        "plt.show()"
      ],
      "execution_count": 25,
      "outputs": [
        {
          "output_type": "display_data",
          "data": {
            "image/png": "[encoded data removed]",
            "text/plain": [
              "<Figure size 576x576 with 9 Axes>"
            ]
          },
          "metadata": {
            "needs_background": "light"
          }
        }
      ]
    },
    {
      "cell_type": "markdown",
      "metadata": {
        "id": "wc6rvtKfyATR"
      },
      "source": [
        "### Train Test Split\n",
        "While training a model, we typically want to pass samples in “minibatches”, reshuffle the data at every epoch to reduce model overfitting, and use Python’s multiprocessing to speed up data retrieval."
      ]
    },
    {
      "cell_type": "code",
      "metadata": {
        "id": "JGy19Fv4wABN"
      },
      "source": [
        "BATCH_SIZE = 32\n",
        "\n",
        "train, val = random_split(train_data, [50000, 10000])\n",
        "train_loader = DataLoader(train, batch_size=BATCH_SIZE, shuffle=True)\n",
        "val_loader = DataLoader(val, batch_size=BATCH_SIZE, shuffle=True)\n",
        "\n",
        "test_loader = DataLoader(test_data, batch_size=BATCH_SIZE)"
      ],
      "execution_count": 26,
      "outputs": []
    },
    {
      "cell_type": "markdown",
      "metadata": {
        "id": "6_2mojs5iuFA"
      },
      "source": [
        "### Defining a model\n",
        "\n",
        "* [**`nn.Sequential()`**](https://pytorch.org/docs/stable/generated/torch.nn.Sequential.html#torch.nn.Sequential): a sequential container where modules will be added to it in the order they are passed in the constructor.\n",
        "* [**`nn.Linear()`**](https://pytorch.org/docs/stable/generated/torch.nn.Linear.html): applies a linear transformation to the incoming data.\n",
        "* [**`nn.ReLU()`**](https://pytorch.org/docs/stable/generated/torch.nn.ReLU.html#torch.nn.ReLU): applies the rectified linear unit function element-wise. This is done to add non-linearity to the model.\n",
        "* [**`nn.Dropout()`**](https://pytorch.org/docs/1.9.0/generated/torch.nn.Dropout.html?highlight=dropout#torch.nn.Dropout): during training, randomly zeroes some of the elements of the input tensor."
      ]
    },
    {
      "cell_type": "code",
      "metadata": {
        "id": "l-PYYWTGiqkg"
      },
      "source": [
        "model = nn.Sequential(\n",
        "    nn.Linear(28 * 28, 64), # 28x28 images, 64 neurons in 1st hidden layer\n",
        "    nn.ReLU(), # non linear\n",
        "    nn.Linear(64, 64), # from 64 neurons in hidden layer to another 64\n",
        "    nn.ReLU(),\n",
        "    nn.Dropout(0.1), # if we're overfitting, we can set 0.1 neurons to zero\n",
        "    nn.Linear(64, 10) # from 64 to 10 (mnist has 10 classess)\n",
        ")"
      ],
      "execution_count": 27,
      "outputs": []
    },
    {
      "cell_type": "markdown",
      "metadata": {
        "id": "ZhqBD7U33d_g"
      },
      "source": [
        "We can allow the optimizer to skip the second hidden layer or skip a few hidden units if it's not necessary. Now, we can try to define the more flexible model (residual connections)."
      ]
    },
    {
      "cell_type": "code",
      "metadata": {
        "id": "8__7QUax3pIh"
      },
      "source": [
        "class ResNet(nn.Module):\n",
        "    def __init__(self):\n",
        "        super().__init__()\n",
        "        self.l1 = nn.Linear(28 * 28, 64)\n",
        "        self.l2 = nn.Linear(64, 64)\n",
        "        self.l3 = nn.Linear(64, 10)\n",
        "        self.do = nn.Dropout(0.1)\n",
        "\n",
        "    def forward(self, x):\n",
        "        h1 = nn.functional.relu(self.l1(x))\n",
        "        h2 = nn.functional.relu(self.l2(h1))\n",
        "\n",
        "        # if h2 is not necessary, network can set the bias to negative\n",
        "        # such that relu will set it to zero.\n",
        "        do = self.do(h2 + h1) \n",
        "\n",
        "        logits = self.l3(do)\n",
        "        return logits"
      ],
      "execution_count": 28,
      "outputs": []
    },
    {
      "cell_type": "markdown",
      "metadata": {
        "id": "voneqMmWmasf"
      },
      "source": [
        "### Optimizer\n",
        "\n",
        "Optimizers are algorithms used to minimize the loss function. It is dependent on model’s learnable parameters i.e weights and biases. Optimizers help to know how to change weights and learning rate of neural network to reduce the losses."
      ]
    },
    {
      "cell_type": "code",
      "metadata": {
        "id": "4DphfXQ0jf-k"
      },
      "source": [
        "params = model.parameters()\n",
        "optimizer = optim.SGD(params, lr=1e-2) # stochastic gradient descent"
      ],
      "execution_count": 29,
      "outputs": []
    },
    {
      "cell_type": "markdown",
      "metadata": {
        "id": "uNIkIgaHm8nz"
      },
      "source": [
        "### Loss Function\n",
        "\n",
        "Loss function has an important job in that it must faithfully distill all aspects of the model down into a single number in such a way that improvements in that number are a sign of a better model. If we choose a loss error function and obtain unsatisfactory results, the fault is ours for badly specifying the goal of the search."
      ]
    },
    {
      "cell_type": "code",
      "metadata": {
        "id": "iQzsreolm-tv"
      },
      "source": [
        "# how do we want to change the parameters on the model\n",
        "loss = nn.CrossEntropyLoss() # useful when training a classification problem with C classes"
      ],
      "execution_count": 30,
      "outputs": []
    },
    {
      "cell_type": "markdown",
      "metadata": {
        "id": "GWe5JHmxoXwx"
      },
      "source": [
        "### Training and validation loops"
      ]
    },
    {
      "cell_type": "markdown",
      "metadata": {
        "id": "KaqyuciK5u9z"
      },
      "source": [
        "First, let's try using the base model then we can compare it with the residual networks."
      ]
    },
    {
      "cell_type": "code",
      "metadata": {
        "colab": {
          "base_uri": "https://localhost:8080/"
        },
        "id": "iT4QCf7AoZIf",
        "outputId": "b5caf820-0169-4466-9bdb-ffe1b266a377"
      },
      "source": [
        "nb_epochs = 5 # how many we times we go through the dataset\n",
        "\n",
        "for epoch in range(nb_epochs): # for each pass through the whole dataset,\n",
        "    losses = list() # store the loss\n",
        "    accuracies = list() # store the accuracy\n",
        "\n",
        "    # .train() # tells the model that you are training the model. \n",
        "    # So effectively layers like dropout, batchnorm etc. which behave different\n",
        "    # on the train and test procedures know what is going on and hence can behave accordingly.\n",
        "    # example: during inference mode, dropout will be deactivated\n",
        "    model.train() \n",
        "\n",
        "    for batch in train_loader: # we are gonna get the batch from the loader\n",
        "        x, y = batch # get the input (image) and label (class) from the batch\n",
        "        \n",
        "        # x: batch size * channel (1) * 28 * 28\n",
        "        b = x.size(0) # returns 1st dimension of the tensor (which is the batch size, this should remain the constant)\n",
        "\n",
        "        # .view() reshapes the tensor of the specified shape\n",
        "        # In this case, we flatten the tensor, because the Linear layer only accepts vector (1d array)\n",
        "        # -1 in x.view() is a filler, in other words, its dimensions that we don't know, so PyTorch automatically calculates it\n",
        "        # For example, if x = torch.tensor([1,2,3,4]), to reshape the tensor to a 2x2, you could do x.view(2,2) or x.view(2,-1) or x.view(-1,2)\n",
        "        x = x.view(b, -1) # in this case, -1 equals 28*28\n",
        "\n",
        "        # now we have a big matrix with b rows (because we have the first size b) \n",
        "        # and the columns (length of each row) will be 1 * 28 * 28 \n",
        "\n",
        "        # 1. forward step\n",
        "        l = model(x) # logits (predictions which come out from the last layer of the nn)\n",
        "\n",
        "        # 2. compute objective function (how well the model is)\n",
        "        # The function we want to minimize or maximize is called the objective \n",
        "        # function or criterion. When we are minimizing it, we may also call it \n",
        "        # the cost function, loss function, or error function.\n",
        "        J = loss(l, y) # logits, label\n",
        "\n",
        "        # 3. cleaning the gradients from the previous step\n",
        "        model.zero_grad() # params.grad.zero_() OR optim.zero_grad()\n",
        "\n",
        "        # 4. accumulate the partial dertivatives of J with respect to the parameters\n",
        "        J.backward() # params.grad.add_(dJ/dparams)\n",
        "\n",
        "        # 5. step in the opposite direction of the gradient\n",
        "        optimizer.step() # with torch.no_grad(): params = params - eta * params.grad (manual update)\n",
        "\n",
        "        losses.append(J.item())\n",
        "\n",
        "        # get highest probability and compute the mean of accuracy\n",
        "        accuracies.append(y.eq(l.detach().argmax(dim=1)).float().mean()) \n",
        "\n",
        "    print(f'Epoch {epoch + 1}', end=', ')\n",
        "    print(f'train loss: {torch.tensor(losses).mean():.2f}', end=', ')\n",
        "    print(f'train accuracy: {torch.tensor(accuracies).mean():.2f}')\n",
        "\n",
        "    # validation step\n",
        "    losses = list() \n",
        "    accuracies = list()\n",
        "    model.eval() # inference mode\n",
        "    for batch in val_loader:\n",
        "        x, y = batch \n",
        "        b = x.size(0) \n",
        "        x = x.view(b, -1)\n",
        "\n",
        "        # 1. forward step\n",
        "        with torch.no_grad(): # compute without gradients\n",
        "            l = model(x) # logits\n",
        "\n",
        "        # 2. compute objective function (how well the model is)\n",
        "        J = loss(l, y) # logits, label\n",
        "\n",
        "        losses.append(J.item())\n",
        "        accuracies.append(y.eq(l.detach().argmax(dim=1)).float().mean()) \n",
        "    \n",
        "    print(f'Epoch {epoch + 1}', end=', ')\n",
        "    print(f'validation loss: {torch.tensor(losses).mean():.2f}', end=', ')\n",
        "    print(f'validation accuracy: {torch.tensor(accuracies).mean():.2f}')"
      ],
      "execution_count": 31,
      "outputs": [
        {
          "output_type": "stream",
          "name": "stdout",
          "text": [
            "Epoch 1, train loss: 1.29, train accuracy: 0.65\n",
            "Epoch 1, validation loss: 0.50, validation accuracy: 0.86\n",
            "Epoch 2, train loss: 0.46, train accuracy: 0.87\n",
            "Epoch 2, validation loss: 0.37, validation accuracy: 0.89\n",
            "Epoch 3, train loss: 0.38, train accuracy: 0.89\n",
            "Epoch 3, validation loss: 0.31, validation accuracy: 0.91\n",
            "Epoch 4, train loss: 0.33, train accuracy: 0.91\n",
            "Epoch 4, validation loss: 0.28, validation accuracy: 0.92\n",
            "Epoch 5, train loss: 0.30, train accuracy: 0.92\n",
            "Epoch 5, validation loss: 0.25, validation accuracy: 0.93\n"
          ]
        }
      ]
    },
    {
      "cell_type": "code",
      "metadata": {
        "colab": {
          "base_uri": "https://localhost:8080/"
        },
        "id": "8BZ7fzl2OB1E",
        "outputId": "688a07b8-1cd2-40c7-98e0-cfc0f887d8c4"
      },
      "source": [
        "l.detach()[0]"
      ],
      "execution_count": 32,
      "outputs": [
        {
          "output_type": "execute_result",
          "data": {
            "text/plain": [
              "tensor([-0.8515, -0.1444,  0.9439,  3.0667, -3.2735,  0.4422, -3.5934,  4.7685,\n",
              "        -0.6341,  0.9499])"
            ]
          },
          "metadata": {},
          "execution_count": 32
        }
      ]
    },
    {
      "cell_type": "code",
      "metadata": {
        "colab": {
          "base_uri": "https://localhost:8080/"
        },
        "id": "wYcu7e-OOWfE",
        "outputId": "71f30431-7806-4646-ea02-bafa2d3d6d1e"
      },
      "source": [
        "l.detach()[0].argmax()"
      ],
      "execution_count": 33,
      "outputs": [
        {
          "output_type": "execute_result",
          "data": {
            "text/plain": [
              "tensor(7)"
            ]
          },
          "metadata": {},
          "execution_count": 33
        }
      ]
    },
    {
      "cell_type": "code",
      "metadata": {
        "colab": {
          "base_uri": "https://localhost:8080/"
        },
        "id": "5vQ5uWgHPIH_",
        "outputId": "9cffc311-b28b-4626-a5a9-a67d1146b467"
      },
      "source": [
        "l.detach()[0].softmax(dim=0)"
      ],
      "execution_count": 34,
      "outputs": [
        {
          "output_type": "execute_result",
          "data": {
            "text/plain": [
              "tensor([2.8872e-03, 5.8557e-03, 1.7386e-02, 1.4525e-01, 2.5623e-04, 1.0528e-02,\n",
              "        1.8608e-04, 7.9657e-01, 3.5883e-03, 1.7492e-02])"
            ]
          },
          "metadata": {},
          "execution_count": 34
        }
      ]
    },
    {
      "cell_type": "code",
      "metadata": {
        "colab": {
          "base_uri": "https://localhost:8080/"
        },
        "id": "6ruLGyr0PXsU",
        "outputId": "58ab2ad1-441e-4b23-aaa8-19320c8e6a53"
      },
      "source": [
        "for idx, proba in enumerate(l.detach()[0].softmax(dim=0)):\n",
        "    print(idx, proba)"
      ],
      "execution_count": 35,
      "outputs": [
        {
          "output_type": "stream",
          "name": "stdout",
          "text": [
            "0 tensor(0.0029)\n",
            "1 tensor(0.0059)\n",
            "2 tensor(0.0174)\n",
            "3 tensor(0.1453)\n",
            "4 tensor(0.0003)\n",
            "5 tensor(0.0105)\n",
            "6 tensor(0.0002)\n",
            "7 tensor(0.7966)\n",
            "8 tensor(0.0036)\n",
            "9 tensor(0.0175)\n"
          ]
        }
      ]
    },
    {
      "cell_type": "markdown",
      "metadata": {
        "id": "to-_zh-W55d8"
      },
      "source": [
        "Now, let's try the residual networks."
      ]
    },
    {
      "cell_type": "code",
      "metadata": {
        "colab": {
          "base_uri": "https://localhost:8080/"
        },
        "id": "Agpr4cVX8H08",
        "outputId": "67de4e1a-ecb0-4ac7-b004-a9616e4351ad"
      },
      "source": [
        "my_resnet_model = ResNet().cuda() # with GPU\n",
        "my_resnet_model"
      ],
      "execution_count": 36,
      "outputs": [
        {
          "output_type": "execute_result",
          "data": {
            "text/plain": [
              "ResNet(\n",
              "  (l1): Linear(in_features=784, out_features=64, bias=True)\n",
              "  (l2): Linear(in_features=64, out_features=64, bias=True)\n",
              "  (l3): Linear(in_features=64, out_features=10, bias=True)\n",
              "  (do): Dropout(p=0.1, inplace=False)\n",
              ")"
            ]
          },
          "metadata": {},
          "execution_count": 36
        }
      ]
    },
    {
      "cell_type": "code",
      "metadata": {
        "colab": {
          "base_uri": "https://localhost:8080/"
        },
        "id": "rw01f_Qs57VG",
        "outputId": "016b3255-6cdb-4890-d5d5-8f06d0ed452f"
      },
      "source": [
        "nb_epochs = 5 # how many we times we go through the dataset\n",
        "params = my_resnet_model.parameters() # using the residual networks\n",
        "optimizer = optim.SGD(params, lr=1e-2) # stochastic gradient descent\n",
        "loss = nn.CrossEntropyLoss() \n",
        "\n",
        "for epoch in range(nb_epochs): # for each pass through the whole dataset,\n",
        "    losses = list() # store the loss\n",
        "    accuracies = list() # store the accuracy\n",
        "    my_resnet_model.train() # training mode\n",
        "\n",
        "    for batch in train_loader: \n",
        "        # send both x and y to cuda\n",
        "        x, y = batch\n",
        "        b = x.size(0) \n",
        "        x = x.view(b, -1).cuda()\n",
        "        l = my_resnet_model(x) # forward propagation\n",
        "        J = loss(l, y.cuda()) # compute objective function\n",
        "        my_resnet_model.zero_grad() # cleaning the gradients\n",
        "        J.backward() # accumulate the partial dertivatives\n",
        "        optimizer.step() # step in the opposite direction of the gradient\n",
        "        losses.append(J.item())\n",
        "        accuracies.append(y.eq(l.detach().argmax(dim=1).cpu()).float().mean()) \n",
        "\n",
        "    print(f'Epoch {epoch + 1}', end=', ')\n",
        "    print(f'train loss: {torch.tensor(losses).mean():.2f}', end=', ')\n",
        "    print(f'train accuracy: {torch.tensor(accuracies).mean():.2f}')\n",
        "\n",
        "    # validation step\n",
        "    losses = list() \n",
        "    accuracies = list()\n",
        "    my_resnet_model.eval() # inference mode\n",
        "    for batch in val_loader:\n",
        "        x, y = batch \n",
        "        b = x.size(0) \n",
        "        x = x.view(b, -1).cuda()\n",
        "\n",
        "        with torch.no_grad(): # compute without gradients\n",
        "            l = my_resnet_model(x) # logits\n",
        "\n",
        "        J = loss(l, y.cuda()) # logits, label\n",
        "\n",
        "        losses.append(J.item())\n",
        "        accuracies.append(y.eq(l.detach().argmax(dim=1).cpu()).float().mean()) \n",
        "    \n",
        "    print(f'Epoch {epoch + 1}', end=', ')\n",
        "    print(f'validation loss: {torch.tensor(losses).mean():.2f}', end=', ')\n",
        "    print(f'validation accuracy: {torch.tensor(accuracies).mean():.2f}')"
      ],
      "execution_count": 37,
      "outputs": [
        {
          "output_type": "stream",
          "name": "stdout",
          "text": [
            "Epoch 1, train loss: 0.88, train accuracy: 0.78\n",
            "Epoch 1, validation loss: 0.39, validation accuracy: 0.89\n",
            "Epoch 2, train loss: 0.38, train accuracy: 0.89\n",
            "Epoch 2, validation loss: 0.30, validation accuracy: 0.91\n",
            "Epoch 3, train loss: 0.31, train accuracy: 0.91\n",
            "Epoch 3, validation loss: 0.26, validation accuracy: 0.93\n",
            "Epoch 4, train loss: 0.27, train accuracy: 0.92\n",
            "Epoch 4, validation loss: 0.23, validation accuracy: 0.93\n",
            "Epoch 5, train loss: 0.24, train accuracy: 0.93\n",
            "Epoch 5, validation loss: 0.21, validation accuracy: 0.94\n"
          ]
        }
      ]
    },
    {
      "cell_type": "markdown",
      "metadata": {
        "id": "PPxDN7WB0FXx"
      },
      "source": [
        "### Predict on unseen data"
      ]
    },
    {
      "cell_type": "code",
      "metadata": {
        "colab": {
          "base_uri": "https://localhost:8080/"
        },
        "id": "HZ7qajAK0HSf",
        "outputId": "a6a48fe8-0693-4515-bd84-defac3a92b54"
      },
      "source": [
        "losses = list() \n",
        "accuracies = list()\n",
        "my_resnet_model.eval() # inference mode\n",
        "\n",
        "for batch in test_loader:\n",
        "    x, y = batch\n",
        "    b = x.size(0) \n",
        "    x = x.view(b, -1).cuda()\n",
        "\n",
        "    with torch.no_grad(): # compute without gradients\n",
        "        l = my_resnet_model(x) # logits\n",
        "\n",
        "    J = loss(l, y.cuda()) # logits, label\n",
        "\n",
        "    losses.append(J.item())\n",
        "    accuracies.append(y.eq(l.detach().argmax(dim=1).cpu()).float().mean()) \n",
        "\n",
        "print(f'testing loss: {torch.tensor(losses).mean():.2f}', end=', ')\n",
        "print(f'testing accuracy: {torch.tensor(accuracies).mean():.2f}')"
      ],
      "execution_count": 39,
      "outputs": [
        {
          "output_type": "stream",
          "name": "stdout",
          "text": [
            "testing loss: 0.20, testing accuracy: 0.94\n"
          ]
        }
      ]
    },
    {
      "cell_type": "markdown",
      "metadata": {
        "id": "m-Pc3Y_jp601"
      },
      "source": [
        "### Saving the model"
      ]
    },
    {
      "cell_type": "code",
      "metadata": {
        "id": "XDGJYDj1p8zy"
      },
      "source": [
        "torch.save(my_resnet_model, './my_resnet_model.pt') "
      ],
      "execution_count": 40,
      "outputs": []
    }
  ]
}